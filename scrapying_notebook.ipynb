{
 "cells": [
  {
   "cell_type": "code",
   "execution_count": 28,
   "metadata": {
    "collapsed": true
   },
   "outputs": [],
   "source": [
    "from bs4 import BeautifulSoup\n",
    "import re \n",
    "import requests\n",
    "from time import sleep\n",
    "from nltk.corpus import stopwords\n",
    "import pandas as pd\n",
    "import os\n",
    "import numpy as np"
   ]
  },
  {
   "cell_type": "code",
   "execution_count": 29,
   "metadata": {
    "collapsed": true
   },
   "outputs": [],
   "source": [
    "def get_url(job, city, state):\n",
    "\n",
    "    query_job = job.split()\n",
    "    query_job = \"+\".join(query_job)\n",
    "\n",
    "    query_city = city.split()\n",
    "    query_city = \"+\".join(query_city)\n",
    "    \n",
    "    url = 'http://www.indeed.com/jobs?q=' + query_job + '&l=' + query_city + '%2C+' + state\n",
    "    \n",
    "    return url"
   ]
  },
  {
   "cell_type": "code",
   "execution_count": 30,
   "metadata": {
    "collapsed": false
   },
   "outputs": [],
   "source": [
    "def cleaning_site(website):\n",
    "    try:\n",
    "        site = requests.get(website).text #Connects to Website\n",
    "    except:\n",
    "        return 'Data Extraction Failed'\n",
    "    \n",
    "    soup = BeautifulSoup(site, \"html.parser\") # Get the html from the site\n",
    "    \n",
    "    for row in soup.find_all(['script', 'style']):\n",
    "        row.extract()\n",
    " \n",
    "    text = soup.get_text() # Get the text from this\n",
    "    text = re.sub(\"[^a-zA-Z.+3]\",\" \", text) \n",
    "    text = text.lower()\n",
    "    text = text.decode('unicode_escape').encode('ascii', 'ignore')\n",
    "    stop_words = set(stopwords.words(\"english\"))\n",
    "    text = [word for word in text.split() if not word in stop_words]\n",
    "    text = \" \".join([word for word in text])\n",
    "    \n",
    "    return text"
   ]
  },
  {
   "cell_type": "code",
   "execution_count": 31,
   "metadata": {
    "collapsed": false
   },
   "outputs": [],
   "source": [
    "def Scraping_Indeed(job = None, city = None, state = None):\n",
    "    \n",
    "    if job is None:\n",
    "        print 'Please insert a job'\n",
    "        return\n",
    "    \n",
    "    if city is not None:\n",
    "        indeed_url = get_url(job, city, state)\n",
    "    \n",
    "    else:\n",
    "        indeed_url = 'http://www.indeed.com/jobs?q=' + job + '&l='\n",
    "        \n",
    "            \n",
    "    site = requests.get(indeed_url).text\n",
    "    soup = BeautifulSoup(site, \"html.parser\")\n",
    "    \n",
    "    # Scraping number of pages to loop through\n",
    "    \n",
    "    jobs_numbers = soup.find('div', id='searchCount').text\n",
    "\n",
    "    jobs_number = jobs_numbers.split('of ')[-1]\n",
    "    \n",
    "    # When the total is larger than 1000 the comma in the string cannot be transformed to int\n",
    "    try:\n",
    "        jobs_number = \"\".join(jobs_number.split(','))\n",
    "    except:\n",
    "        pass\n",
    "    \n",
    "    jobs_total = int(jobs_number)\n",
    "    total_pages = jobs_total/14\n",
    "    \n",
    "    \n",
    "    final_descriptions = []\n",
    "    final_companies    = []\n",
    "    final_locations    = []\n",
    "    final_job_titles   = []\n",
    "    \n",
    "    #Loop that iterates through every page\n",
    "    for page in xrange(1, total_pages + 1):\n",
    "        \n",
    "        #defining the url for every page\n",
    "        #example of url: http://www.indeed.com/jobs?q=data+scientist&l=Chicago%2C+IL&start=10 (page 2 )\n",
    "        if page == 1:\n",
    "            url = indeed_url\n",
    "        else:\n",
    "            url = indeed_url + '&start=' + str((page-1)*10) \n",
    "        \n",
    "        print 'Scraping page %d of %d pages' %(page, total_pages+1)\n",
    "        \n",
    "        #Scraping job title and cleaning data\n",
    "        job_titles = soup.findAll('a', rel = 'nofollow', target=\"_blank\")\n",
    "        #job_titles = job_titles.findAll('a', data-tn-element = \"jobTitle\")\n",
    "        job_titles = [job_title.text.strip().encode('ascii','ignore') for job_title in job_titles]\n",
    "        print job_titles\n",
    "        \n",
    "        #Scraping Company Location and cleaning the data\n",
    "        locations = soup.findAll('span', class_='location')\n",
    "        locations = [location.text.strip().encode('ascii','ignore') for location in locations]\n",
    "             \n",
    "        # Scraping Company Name and cleaning the data\n",
    "        companies = soup.findAll('span', class_='company')\n",
    "        companies = [company.text.strip().encode('ascii','ignore') for company in companies]\n",
    "        \n",
    "        # Extracting every job description link of the current page in indeed\n",
    "        links = soup.findAll('a', href=True, rel='nofollow')\n",
    "        links = [line.get('href') for line in links]\n",
    "        job_links = [link for link in links if 'clk' in link]\n",
    "        all_urls = []\n",
    "        \n",
    "        #Creating a list containing the job links for the current page in indeed \n",
    "        for link in job_links:\n",
    "            all_urls.append('http://www.indeed.com' + link)\n",
    "        \n",
    "        #Scraping and cleaning data from the job descriptions links\n",
    "        job_descriptions =  []\n",
    "        for url in all_urls:\n",
    "            job_descriptions.append(cleaning_site(url))\n",
    "        \n",
    "        \n",
    "        final_descriptions.extend(job_descriptions)\n",
    "        final_companies.extend(companies)\n",
    "        final_locations.extend(locations)\n",
    "        final_job_titles.extend(job_titles)\n",
    "        \n",
    "        sleep(1)\n",
    "        \n",
    "    data = pd.DataFrame({'job_title' : final_job_titles, 'job_description' : final_descriptions, 'company' : final_companies, 'location' : final_locations })\n",
    "        \n",
    "    return data"
   ]
  },
  {
   "cell_type": "code",
   "execution_count": 24,
   "metadata": {
    "collapsed": false,
    "scrolled": false
   },
   "outputs": [
    {
     "name": "stdout",
     "output_type": "stream",
     "text": [
      "Scraping page 1 of 1435 pages\n",
      "['Senior Data Scientist/Applied Researcher', 'Data Miner', 'Principal Data Scientist', 'Data Scientist', 'Data Scientist', 'Machine Learning Engineer / Data Scientist', 'Data Scientist', 'Data Scientist', 'Data Scientist - Lead', 'Data Scientist / Machine Learning / NLP full time in SF', 'Data Scientist', 'Solutions Engineer - Dallas', 'SQL Data Analyst Job', 'Data Scientist', 'Data Scientist']\n"
     ]
    }
   ],
   "source": [
    "website = 'http://www.indeed.com/jobs?q=Data+Scientist&l=San+Francisco%2C+CA'\n",
    "web =     'http://www.indeed.com/jobs?q=Data+Scientist&l=Chicago%2C+IL'\n",
    "data = Scraping_Indeed('data scientist')\n",
    "data.to_csv('scrapingdata')"
   ]
  },
  {
   "cell_type": "code",
   "execution_count": 305,
   "metadata": {
    "collapsed": false
   },
   "outputs": [
    {
     "data": {
      "text/plain": [
       "'careers'"
      ]
     },
     "execution_count": 305,
     "metadata": {},
     "output_type": "execute_result"
    }
   ],
   "source": [
    "site = 'https://www.nsa.gov/psp/applyonline/EMPLOYEE/HRMS/c/HRS_HRAM.HRS_CE.GBL?Page=HRS_CE_JOB_DTL&Action=A&JobOpeningId=1063122&SiteId=1&PostingSeq=1'\n",
    "sample = cleaning_site(site)\n",
    "sample"
   ]
  }
 ],
 "metadata": {
  "kernelspec": {
   "display_name": "Python 2",
   "language": "python",
   "name": "python2"
  },
  "language_info": {
   "codemirror_mode": {
    "name": "ipython",
    "version": 2
   },
   "file_extension": ".py",
   "mimetype": "text/x-python",
   "name": "python",
   "nbconvert_exporter": "python",
   "pygments_lexer": "ipython2",
   "version": "2.7.10"
  }
 },
 "nbformat": 4,
 "nbformat_minor": 0
}

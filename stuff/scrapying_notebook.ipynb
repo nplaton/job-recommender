{
 "cells": [
  {
   "cell_type": "code",
   "execution_count": 1,
   "metadata": {
    "collapsed": true
   },
   "outputs": [],
   "source": [
    "from bs4 import BeautifulSoup\n",
    "import re \n",
    "import requests\n",
    "from time import sleep\n",
    "from nltk.corpus import stopwords\n",
    "import pandas as pd\n",
    "import os\n",
    "import numpy as np"
   ]
  },
  {
   "cell_type": "code",
   "execution_count": 2,
   "metadata": {
    "collapsed": true
   },
   "outputs": [],
   "source": [
    "def get_url(job, city, state):\n",
    "\n",
    "    query_job = job.split()\n",
    "    query_job = \"+\".join(query_job)\n",
    "\n",
    "    query_city = city.split()\n",
    "    query_city = \"+\".join(query_city)\n",
    "    \n",
    "    url = 'http://www.indeed.com/jobs?q=' + query_job + '&l=' + query_city + '%2C+' + state\n",
    "    \n",
    "    return url"
   ]
  },
  {
   "cell_type": "code",
   "execution_count": 3,
   "metadata": {
    "collapsed": false
   },
   "outputs": [],
   "source": [
    "def cleaning_site(website):\n",
    "    try:\n",
    "        site = requests.get(website).text #Connects to Website\n",
    "    except:\n",
    "        return 'Data Extraction Failed'\n",
    "    \n",
    "    soup = BeautifulSoup(site, \"html.parser\") # Get the html from the site\n",
    "    \n",
    "    for row in soup.find_all(['script', 'style']):\n",
    "        row.extract()\n",
    " \n",
    "    text = soup.get_text() # Get the text from this\n",
    "    text = re.sub(\"[^a-zA-Z.+3]\",\" \", text) \n",
    "    text = text.lower()\n",
    "    text = text.decode('unicode_escape').encode('ascii', 'ignore')\n",
    "    stop_words = set(stopwords.words(\"english\"))\n",
    "    text = [word for word in text.split() if not word in stop_words]\n",
    "    text = \" \".join([word for word in text])\n",
    "    \n",
    "    return text"
   ]
  },
  {
   "cell_type": "code",
   "execution_count": 14,
   "metadata": {
    "collapsed": false
   },
   "outputs": [],
   "source": [
    "def Scraping_Indeed(job = None, city = None, state = None):\n",
    "    \n",
    "    if job is None:\n",
    "        print 'Please insert a job'\n",
    "        return\n",
    "    \n",
    "    if city is not None:\n",
    "        indeed_url = get_url(job, city, state)\n",
    "    \n",
    "    else:\n",
    "        indeed_url = 'http://www.indeed.com/jobs?q=' + job + '&l='\n",
    "        \n",
    "            \n",
    "    site = requests.get(indeed_url).text\n",
    "    soup = BeautifulSoup(site, \"html.parser\")\n",
    "    \n",
    "    # Scraping number of pages to loop through\n",
    "    \n",
    "    jobs_numbers = soup.find('div', id='searchCount').text\n",
    "\n",
    "    jobs_number = jobs_numbers.split('of ')[-1]\n",
    "    \n",
    "    # When the total is larger than 1000 the comma in the string cannot be transformed to int\n",
    "    try:\n",
    "        jobs_number = \"\".join(jobs_number.split(','))\n",
    "    except:\n",
    "        pass\n",
    "    \n",
    "    jobs_total = int(jobs_number)\n",
    "    total_pages = jobs_total/14\n",
    "    \n",
    "    \n",
    "    final_descriptions = []\n",
    "    final_companies    = []\n",
    "    final_locations    = []\n",
    "    final_job_titles   = []\n",
    "    \n",
    "    #Loop that iterates through every page\n",
    "    for page in xrange(1, total_pages + 1):\n",
    "        \n",
    "        #defining the url for every page\n",
    "        #example of url: http://www.indeed.com/jobs?q=data+scientist&l=Chicago%2C+IL&start=10 (page 2 )\n",
    "        if page == 1:\n",
    "            url = indeed_url\n",
    "        else:\n",
    "            url = indeed_url + '&start=' + str((page-1)*10) \n",
    "        \n",
    "        print 'Scraping page %d of %d pages' %(page, total_pages+1)\n",
    "        \n",
    "        #Scraping job title and cleaning data\n",
    "        job_titles = soup.findAll('a', rel = 'nofollow', target=\"_blank\")\n",
    "        #job_titles = job_titles.findAll('a', data-tn-element = \"jobTitle\")\n",
    "        job_titles = [job_title.text.strip().encode('ascii','ignore') for job_title in job_titles]\n",
    "        print job_titles\n",
    "        \n",
    "        #Scraping Company Location and cleaning the data\n",
    "        locations = soup.findAll('span', class_='location')\n",
    "        locations = [location.text.strip().encode('ascii','ignore') for location in locations]\n",
    "             \n",
    "        # Scraping Company Name and cleaning the data\n",
    "        companies = soup.findAll('span', class_='company')\n",
    "        companies = [company.text.strip().encode('ascii','ignore') for company in companies]\n",
    "        \n",
    "        # Extracting every job description link of the current page in indeed\n",
    "        links = soup.findAll('a', rel='nofollow')\n",
    "        links = [line.get('href') for line in links]\n",
    "        job_links = [link for link in links if 'clk' in link]\n",
    "        all_urls = []\n",
    "        \n",
    "        #Creating a list containing the job links for the current page in indeed \n",
    "        print len(job_links), len(companies), len(locations), len(job_titles)\n",
    "        \n",
    "        #Scraping and cleaning data from the job descriptions links\n",
    "        job_descriptions =  []\n",
    "        for url in all_urls:\n",
    "            job_descriptions.append(cleaning_site(url))\n",
    "            print url\n",
    "        final_descriptions.extend(job_descriptions)\n",
    "        final_companies.extend(companies)\n",
    "        final_locations.extend(locations)\n",
    "        final_job_titles.extend(job_titles)\n",
    "        break\n",
    "        sleep(1)\n",
    "        \n",
    "    data = pd.DataFrame({'job_title' : final_job_titles, 'job_description' : final_descriptions, 'company' : final_companies, 'location' : final_locations })\n",
    "        \n",
    "    return data"
   ]
  },
  {
   "cell_type": "code",
   "execution_count": 15,
   "metadata": {
    "collapsed": false,
    "scrolled": false
   },
   "outputs": [
    {
     "name": "stdout",
     "output_type": "stream",
     "text": [
      "Scraping page 1 of 1466 pages\n",
      "['Data Scientist', 'Data Miner', 'Machine Learning Algorithm Developer', 'Data Scientist', 'Data Scientist', 'Senior Product Manager-66155I', 'Clinical Scientist / Data Cleaner', 'Think Big Principal Data Scientist', 'Data Scientist', 'Data Scientist', 'Data Scientist', 'Data Scientist', 'Data Scientist', 'Data Scientist', 'Data Scientist']\n",
      "14 15 15 15\n"
     ]
    },
    {
     "ename": "ValueError",
     "evalue": "arrays must all be same length",
     "output_type": "error",
     "traceback": [
      "\u001b[0;31m---------------------------------------------------------------------------\u001b[0m",
      "\u001b[0;31mValueError\u001b[0m                                Traceback (most recent call last)",
      "\u001b[0;32m<ipython-input-15-4fd3e8b0e140>\u001b[0m in \u001b[0;36m<module>\u001b[0;34m()\u001b[0m\n\u001b[1;32m      1\u001b[0m \u001b[0mwebsite\u001b[0m \u001b[0;34m=\u001b[0m \u001b[0;34m'http://www.indeed.com/jobs?q=Data+Scientist&l=San+Francisco%2C+CA'\u001b[0m\u001b[0;34m\u001b[0m\u001b[0m\n\u001b[1;32m      2\u001b[0m \u001b[0mweb\u001b[0m \u001b[0;34m=\u001b[0m     \u001b[0;34m'http://www.indeed.com/jobs?q=Data+Scientist&l=Chicago%2C+IL'\u001b[0m\u001b[0;34m\u001b[0m\u001b[0m\n\u001b[0;32m----> 3\u001b[0;31m \u001b[0mdata\u001b[0m \u001b[0;34m=\u001b[0m \u001b[0mScraping_Indeed\u001b[0m\u001b[0;34m(\u001b[0m\u001b[0;34m'data scientist'\u001b[0m\u001b[0;34m)\u001b[0m\u001b[0;34m\u001b[0m\u001b[0m\n\u001b[0m\u001b[1;32m      4\u001b[0m \u001b[0mdata\u001b[0m\u001b[0;34m.\u001b[0m\u001b[0mto_csv\u001b[0m\u001b[0;34m(\u001b[0m\u001b[0;34m'scrapingdata'\u001b[0m\u001b[0;34m)\u001b[0m\u001b[0;34m\u001b[0m\u001b[0m\n",
      "\u001b[0;32m<ipython-input-14-a527c4afaa0a>\u001b[0m in \u001b[0;36mScraping_Indeed\u001b[0;34m(job, city, state)\u001b[0m\n\u001b[1;32m     83\u001b[0m         \u001b[0msleep\u001b[0m\u001b[0;34m(\u001b[0m\u001b[0;36m1\u001b[0m\u001b[0;34m)\u001b[0m\u001b[0;34m\u001b[0m\u001b[0m\n\u001b[1;32m     84\u001b[0m \u001b[0;34m\u001b[0m\u001b[0m\n\u001b[0;32m---> 85\u001b[0;31m     \u001b[0mdata\u001b[0m \u001b[0;34m=\u001b[0m \u001b[0mpd\u001b[0m\u001b[0;34m.\u001b[0m\u001b[0mDataFrame\u001b[0m\u001b[0;34m(\u001b[0m\u001b[0;34m{\u001b[0m\u001b[0;34m'job_title'\u001b[0m \u001b[0;34m:\u001b[0m \u001b[0mfinal_job_titles\u001b[0m\u001b[0;34m,\u001b[0m \u001b[0;34m'job_description'\u001b[0m \u001b[0;34m:\u001b[0m \u001b[0mfinal_descriptions\u001b[0m\u001b[0;34m,\u001b[0m \u001b[0;34m'company'\u001b[0m \u001b[0;34m:\u001b[0m \u001b[0mfinal_companies\u001b[0m\u001b[0;34m,\u001b[0m \u001b[0;34m'location'\u001b[0m \u001b[0;34m:\u001b[0m \u001b[0mfinal_locations\u001b[0m \u001b[0;34m}\u001b[0m\u001b[0;34m)\u001b[0m\u001b[0;34m\u001b[0m\u001b[0m\n\u001b[0m\u001b[1;32m     86\u001b[0m \u001b[0;34m\u001b[0m\u001b[0m\n\u001b[1;32m     87\u001b[0m     \u001b[0;32mreturn\u001b[0m \u001b[0mdata\u001b[0m\u001b[0;34m\u001b[0m\u001b[0m\n",
      "\u001b[0;32m/Library/Frameworks/Python.framework/Versions/2.7/lib/python2.7/site-packages/pandas/core/frame.pyc\u001b[0m in \u001b[0;36m__init__\u001b[0;34m(self, data, index, columns, dtype, copy)\u001b[0m\n\u001b[1;32m    224\u001b[0m                                  dtype=dtype, copy=copy)\n\u001b[1;32m    225\u001b[0m         \u001b[0;32melif\u001b[0m \u001b[0misinstance\u001b[0m\u001b[0;34m(\u001b[0m\u001b[0mdata\u001b[0m\u001b[0;34m,\u001b[0m \u001b[0mdict\u001b[0m\u001b[0;34m)\u001b[0m\u001b[0;34m:\u001b[0m\u001b[0;34m\u001b[0m\u001b[0m\n\u001b[0;32m--> 226\u001b[0;31m             \u001b[0mmgr\u001b[0m \u001b[0;34m=\u001b[0m \u001b[0mself\u001b[0m\u001b[0;34m.\u001b[0m\u001b[0m_init_dict\u001b[0m\u001b[0;34m(\u001b[0m\u001b[0mdata\u001b[0m\u001b[0;34m,\u001b[0m \u001b[0mindex\u001b[0m\u001b[0;34m,\u001b[0m \u001b[0mcolumns\u001b[0m\u001b[0;34m,\u001b[0m \u001b[0mdtype\u001b[0m\u001b[0;34m=\u001b[0m\u001b[0mdtype\u001b[0m\u001b[0;34m)\u001b[0m\u001b[0;34m\u001b[0m\u001b[0m\n\u001b[0m\u001b[1;32m    227\u001b[0m         \u001b[0;32melif\u001b[0m \u001b[0misinstance\u001b[0m\u001b[0;34m(\u001b[0m\u001b[0mdata\u001b[0m\u001b[0;34m,\u001b[0m \u001b[0mma\u001b[0m\u001b[0;34m.\u001b[0m\u001b[0mMaskedArray\u001b[0m\u001b[0;34m)\u001b[0m\u001b[0;34m:\u001b[0m\u001b[0;34m\u001b[0m\u001b[0m\n\u001b[1;32m    228\u001b[0m             \u001b[0;32mimport\u001b[0m \u001b[0mnumpy\u001b[0m\u001b[0;34m.\u001b[0m\u001b[0mma\u001b[0m\u001b[0;34m.\u001b[0m\u001b[0mmrecords\u001b[0m \u001b[0;32mas\u001b[0m \u001b[0mmrecords\u001b[0m\u001b[0;34m\u001b[0m\u001b[0m\n",
      "\u001b[0;32m/Library/Frameworks/Python.framework/Versions/2.7/lib/python2.7/site-packages/pandas/core/frame.pyc\u001b[0m in \u001b[0;36m_init_dict\u001b[0;34m(self, data, index, columns, dtype)\u001b[0m\n\u001b[1;32m    361\u001b[0m \u001b[0;34m\u001b[0m\u001b[0m\n\u001b[1;32m    362\u001b[0m         return _arrays_to_mgr(arrays, data_names, index, columns,\n\u001b[0;32m--> 363\u001b[0;31m                               dtype=dtype)\n\u001b[0m\u001b[1;32m    364\u001b[0m \u001b[0;34m\u001b[0m\u001b[0m\n\u001b[1;32m    365\u001b[0m     def _init_ndarray(self, values, index, columns, dtype=None,\n",
      "\u001b[0;32m/Library/Frameworks/Python.framework/Versions/2.7/lib/python2.7/site-packages/pandas/core/frame.pyc\u001b[0m in \u001b[0;36m_arrays_to_mgr\u001b[0;34m(arrays, arr_names, index, columns, dtype)\u001b[0m\n\u001b[1;32m   5156\u001b[0m     \u001b[0;31m# figure out the index, if necessary\u001b[0m\u001b[0;34m\u001b[0m\u001b[0;34m\u001b[0m\u001b[0m\n\u001b[1;32m   5157\u001b[0m     \u001b[0;32mif\u001b[0m \u001b[0mindex\u001b[0m \u001b[0;32mis\u001b[0m \u001b[0mNone\u001b[0m\u001b[0;34m:\u001b[0m\u001b[0;34m\u001b[0m\u001b[0m\n\u001b[0;32m-> 5158\u001b[0;31m         \u001b[0mindex\u001b[0m \u001b[0;34m=\u001b[0m \u001b[0mextract_index\u001b[0m\u001b[0;34m(\u001b[0m\u001b[0marrays\u001b[0m\u001b[0;34m)\u001b[0m\u001b[0;34m\u001b[0m\u001b[0m\n\u001b[0m\u001b[1;32m   5159\u001b[0m     \u001b[0;32melse\u001b[0m\u001b[0;34m:\u001b[0m\u001b[0;34m\u001b[0m\u001b[0m\n\u001b[1;32m   5160\u001b[0m         \u001b[0mindex\u001b[0m \u001b[0;34m=\u001b[0m \u001b[0m_ensure_index\u001b[0m\u001b[0;34m(\u001b[0m\u001b[0mindex\u001b[0m\u001b[0;34m)\u001b[0m\u001b[0;34m\u001b[0m\u001b[0m\n",
      "\u001b[0;32m/Library/Frameworks/Python.framework/Versions/2.7/lib/python2.7/site-packages/pandas/core/frame.pyc\u001b[0m in \u001b[0;36mextract_index\u001b[0;34m(data)\u001b[0m\n\u001b[1;32m   5204\u001b[0m             \u001b[0mlengths\u001b[0m \u001b[0;34m=\u001b[0m \u001b[0mlist\u001b[0m\u001b[0;34m(\u001b[0m\u001b[0mset\u001b[0m\u001b[0;34m(\u001b[0m\u001b[0mraw_lengths\u001b[0m\u001b[0;34m)\u001b[0m\u001b[0;34m)\u001b[0m\u001b[0;34m\u001b[0m\u001b[0m\n\u001b[1;32m   5205\u001b[0m             \u001b[0;32mif\u001b[0m \u001b[0mlen\u001b[0m\u001b[0;34m(\u001b[0m\u001b[0mlengths\u001b[0m\u001b[0;34m)\u001b[0m \u001b[0;34m>\u001b[0m \u001b[0;36m1\u001b[0m\u001b[0;34m:\u001b[0m\u001b[0;34m\u001b[0m\u001b[0m\n\u001b[0;32m-> 5206\u001b[0;31m                 \u001b[0;32mraise\u001b[0m \u001b[0mValueError\u001b[0m\u001b[0;34m(\u001b[0m\u001b[0;34m'arrays must all be same length'\u001b[0m\u001b[0;34m)\u001b[0m\u001b[0;34m\u001b[0m\u001b[0m\n\u001b[0m\u001b[1;32m   5207\u001b[0m \u001b[0;34m\u001b[0m\u001b[0m\n\u001b[1;32m   5208\u001b[0m             \u001b[0;32mif\u001b[0m \u001b[0mhave_dicts\u001b[0m\u001b[0;34m:\u001b[0m\u001b[0;34m\u001b[0m\u001b[0m\n",
      "\u001b[0;31mValueError\u001b[0m: arrays must all be same length"
     ]
    }
   ],
   "source": [
    "website = 'http://www.indeed.com/jobs?q=Data+Scientist&l=San+Francisco%2C+CA'\n",
    "web =     'http://www.indeed.com/jobs?q=Data+Scientist&l=Chicago%2C+IL'\n",
    "data = Scraping_Indeed('data scientist')\n",
    "data.to_csv('scrapingdata')"
   ]
  },
  {
   "cell_type": "code",
   "execution_count": 305,
   "metadata": {
    "collapsed": false
   },
   "outputs": [
    {
     "data": {
      "text/plain": [
       "'careers'"
      ]
     },
     "execution_count": 305,
     "metadata": {},
     "output_type": "execute_result"
    }
   ],
   "source": [
    "site = 'https://www.nsa.gov/psp/applyonline/EMPLOYEE/HRMS/c/HRS_HRAM.HRS_CE.GBL?Page=HRS_CE_JOB_DTL&Action=A&JobOpeningId=1063122&SiteId=1&PostingSeq=1'\n",
    "sample = cleaning_site(site)\n",
    "sample"
   ]
  }
 ],
 "metadata": {
  "kernelspec": {
   "display_name": "Python 2",
   "language": "python",
   "name": "python2"
  },
  "language_info": {
   "codemirror_mode": {
    "name": "ipython",
    "version": 2
   },
   "file_extension": ".py",
   "mimetype": "text/x-python",
   "name": "python",
   "nbconvert_exporter": "python",
   "pygments_lexer": "ipython2",
   "version": "2.7.10"
  }
 },
 "nbformat": 4,
 "nbformat_minor": 0
}

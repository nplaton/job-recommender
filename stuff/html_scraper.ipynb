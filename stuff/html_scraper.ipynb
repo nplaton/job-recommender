{
 "cells": [
  {
   "cell_type": "code",
   "execution_count": 41,
   "metadata": {
    "collapsed": true
   },
   "outputs": [],
   "source": [
    "from bs4 import BeautifulSoup\n",
    "import requests\n",
    "from time import sleep\n",
    "import os\n",
    "from selenium import webdriver\n",
    "import sys"
   ]
  },
  {
   "cell_type": "code",
   "execution_count": 42,
   "metadata": {
    "collapsed": true
   },
   "outputs": [],
   "source": [
    "def scrapying_selenium(url):\n",
    "    headers = {\"User-agent\":\"Mozilla/5.0 (X11; Linux x86_64) AppleWebKit/537.36 (KHTML, like Gecko) Chrome/47.0.2526.80 Safari/537.36\"}\n",
    "    browser = webdriver.Chrome(\"/Applications/chromedriver\")\n",
    "    browser.set_page_load_timeout(5)\n",
    "    browser.get(url)#Connects to Website\n",
    "    html = browser.page_source\n",
    "    browser.quit()\n",
    "    return html"
   ]
  },
  {
   "cell_type": "code",
   "execution_count": 32,
   "metadata": {
    "collapsed": false
   },
   "outputs": [],
   "source": [
    "url = 'https://www.google.com/'\n",
    "html = scrapying_selenium(url).encode('utf-8')"
   ]
  },
  {
   "cell_type": "code",
   "execution_count": 37,
   "metadata": {
    "collapsed": false
   },
   "outputs": [],
   "source": [
    "html = url + '\\n\\n'+ html"
   ]
  },
  {
   "cell_type": "code",
   "execution_count": 38,
   "metadata": {
    "collapsed": false
   },
   "outputs": [],
   "source": [
    "url = 'https://www.google.com/'\n",
    "with open('data/html_data/linkedin_us.html', 'w') as f:\n",
    "    f.write(html)\n",
    "    f.close()"
   ]
  },
  {
   "cell_type": "code",
   "execution_count": null,
   "metadata": {
    "collapsed": true
   },
   "outputs": [],
   "source": [
    "data = urlopen(uri).read().decode(encoding)\n",
    "f = open(file_name, 'wb')\n",
    "f.write(data.encode('utf-8'))\n",
    "f.close()"
   ]
  },
  {
   "cell_type": "code",
   "execution_count": 73,
   "metadata": {
    "collapsed": false
   },
   "outputs": [],
   "source": [
    "def scraping_linkedin(job, country = 'us'):\n",
    "\n",
    "    if job is None:\n",
    "        print 'Please insert a job'\n",
    "        return\n",
    "\n",
    "    query_job = job.split()\n",
    "    query_job = \"+\".join(query_job)\n",
    "    zip_url = 'https://www.linkedin.com/jobs/search?keywords=' + query_job + '&locationId=' + country + ':0&start=0'\n",
    "    html = scrapying_selenium(zip_url)\n",
    "    # Scraping number of pages to loop through\n",
    "    \n",
    "    soup = BeautifulSoup(html, \"html.parser\")\n",
    "    job_numbers = soup.find('div', class_=\"results-context\").text\n",
    "    job_numbers = job_numbers.split(' ')\n",
    "\n",
    "    # When the total is larger than 1000 the comma in the string cannot be transformed to int\n",
    "    try:\n",
    "        job_numbers = \"\".join(job_numbers[0].split(','))\n",
    "    except:\n",
    "        pass\n",
    "\n",
    "    jobs_total = int(job_numbers)\n",
    "    total_pages = jobs_total/25\n",
    "\n",
    "\n",
    "    #Loop that iterates through every page\n",
    "    for page in xrange(total_pages):\n",
    "\n",
    "        #defining the url for every page\n",
    "        url = 'https://www.linkedin.com/jobs/search?keywords=' + query_job + '&locationId=' + country + ':0&start=' + str(page*25)\n",
    "        print 'Scraping page %d of %d pages' %(page, total_pages)\n",
    "\n",
    "        html = scrapying_selenium(url)\n",
    "        soup = BeautifulSoup(html, \"html.parser\")\n",
    "\n",
    "        # Extracting every job description link of the current page in indeed\n",
    "        links = soup.findAll('a', class_=\"job-title-link\")\n",
    "        links = [line.get('href') for line in links]\n",
    "        job_links = [link for link in links if 'jobs2' in link]\n",
    "\n",
    "        #Scraping html sources\n",
    "        for count, url in enumerate(job_links):\n",
    "            try:\n",
    "                source = scrapying_selenium(url).encode('utf-8')\n",
    "            except:\n",
    "                continue\n",
    "                \n",
    "            html = url.encode('utf-8') + '\\n\\n' + source\n",
    "            filename = 'data/html_data/linkedin_' + country + '_' + str(page*25 + count) + '.html'\n",
    "            \n",
    "            with open(filename, 'w') as f:\n",
    "                f.write(html)\n",
    "                f.close()\n",
    "        break\n",
    "\n",
    "    return"
   ]
  },
  {
   "cell_type": "code",
   "execution_count": 74,
   "metadata": {
    "collapsed": false
   },
   "outputs": [
    {
     "name": "stdout",
     "output_type": "stream",
     "text": [
      "Scraping page 0 of 1572 pages\n"
     ]
    }
   ],
   "source": [
    "scraping_linkedin('data scientist', country = 'us')"
   ]
  },
  {
   "cell_type": "code",
   "execution_count": null,
   "metadata": {
    "collapsed": true
   },
   "outputs": [],
   "source": []
  }
 ],
 "metadata": {
  "kernelspec": {
   "display_name": "Python 2",
   "language": "python",
   "name": "python2"
  },
  "language_info": {
   "codemirror_mode": {
    "name": "ipython",
    "version": 2
   },
   "file_extension": ".py",
   "mimetype": "text/x-python",
   "name": "python",
   "nbconvert_exporter": "python",
   "pygments_lexer": "ipython2",
   "version": "2.7.10"
  }
 },
 "nbformat": 4,
 "nbformat_minor": 0
}

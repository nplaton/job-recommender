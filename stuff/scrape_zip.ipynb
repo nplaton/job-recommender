{
 "cells": [
  {
   "cell_type": "code",
   "execution_count": 30,
   "metadata": {
    "collapsed": true
   },
   "outputs": [],
   "source": [
    "from bs4 import BeautifulSoup\n",
    "import re\n",
    "import requests\n",
    "from time import sleep\n",
    "from nltk.corpus import stopwords\n",
    "import pandas as pd\n",
    "import os\n",
    "import numpy as np\n",
    "from selenium import webdriver"
   ]
  },
  {
   "cell_type": "code",
   "execution_count": 23,
   "metadata": {
    "collapsed": true
   },
   "outputs": [],
   "source": [
    "def scrapying_selenium(url):\n",
    "    headers = {\"User-agent\":\"Mozilla/5.0 (X11; Linux x86_64) AppleWebKit/537.36 (KHTML, like Gecko) Chrome/47.0.2526.80 Safari/537.36\"}   \n",
    "    browser = webdriver.Chrome(\"/Applications/chromedriver\") \n",
    "    browser.set_page_load_timeout(5)\n",
    "    browser.get(url) #Connects to Website\n",
    "    soup = BeautifulSoup(browser.page_source)# Get the html from the site\n",
    "    browser.quit()\n",
    "    return soup"
   ]
  },
  {
   "cell_type": "code",
   "execution_count": 12,
   "metadata": {
    "collapsed": false
   },
   "outputs": [],
   "source": [
    "def cleaning_site(website):\n",
    "    headers = {\"User-agent\":\"Mozilla/5.0 (X11; Linux x86_64) AppleWebKit/537.36 (KHTML, like Gecko) Chrome/47.0.2526.80 Safari/537.36\"}   \n",
    "    browser = webdriver.Chrome(\"/Applications/chromedriver\") \n",
    "    browser.set_page_load_timeout(10)\n",
    "    browser.get(website) #Connects to Website\n",
    "\n",
    "    soup = BeautifulSoup(browser.page_source)# Get the html from the site\n",
    "    browser.quit()\n",
    "    job_descriptions = soup.findAll('div', class_=\"rich-text\", itemprop=\"description\")\n",
    "    \n",
    "    descriptions = [job.text.strip().encode('ascii','ignore') for job in job_descriptions]\n",
    "    return descriptions"
   ]
  },
  {
   "cell_type": "code",
   "execution_count": 13,
   "metadata": {
    "collapsed": true
   },
   "outputs": [],
   "source": [
    "def init_mongo_client():\n",
    "    # Initiate Mongo client\n",
    "    client = pymongo.MongoClient()\n",
    "\n",
    "    # Access database created for these articles\n",
    "    db = client.job_descriptions\n",
    "    \n",
    "    # Access collection created for these articles\n",
    "    job_descriptions = db.zip_jobs\n",
    "\n",
    "    # Access articles collection in db and return collection pointer.\n",
    "    return db.zip_jobs\n"
   ]
  },
  {
   "cell_type": "code",
   "execution_count": 14,
   "metadata": {
    "collapsed": true
   },
   "outputs": [],
   "source": [
    "website= 'https://www.linkedin.com/jobs2/view/94823687?refId=7396fdb5-579a-42e3-8b8a-23f311d5c4c1&trk=jobs_home_click_jymbii'"
   ]
  },
  {
   "cell_type": "code",
   "execution_count": 12,
   "metadata": {
    "collapsed": false,
    "scrolled": false
   },
   "outputs": [],
   "source": [
    "data = cleaning_site(website)"
   ]
  },
  {
   "cell_type": "code",
   "execution_count": 15,
   "metadata": {
    "collapsed": false
   },
   "outputs": [],
   "source": [
    "def get_url(job, city, state):\n",
    "\n",
    "    query_job = job.split()\n",
    "    query_job = \"+\".join(query_job)\n",
    "\n",
    "    query_city = city.split()\n",
    "    query_city = \"+\".join(query_city)\n",
    "\n",
    "    url = 'https://www.linkedin.com/jobs/search?keywords=' + query_job + '&location=' + query_city + '%2C+' + state\n",
    "\n",
    "    return url\n"
   ]
  },
  {
   "cell_type": "code",
   "execution_count": 16,
   "metadata": {
    "collapsed": false
   },
   "outputs": [
    {
     "data": {
      "text/plain": [
       "'https://www.linkedin.com/jobs/search?keywords=Data+Scientist&location=San+Francisco%2C+California'"
      ]
     },
     "execution_count": 16,
     "metadata": {},
     "output_type": "execute_result"
    }
   ],
   "source": [
    "get_url('Data Scientist', 'San Francisco', 'California')"
   ]
  },
  {
   "cell_type": "code",
   "execution_count": 25,
   "metadata": {
    "collapsed": false
   },
   "outputs": [],
   "source": [
    "def scraping_linkedin(job, country = 'us'):\n",
    "\n",
    "    if job is None:\n",
    "        print 'Please insert a job'\n",
    "        return\n",
    "\n",
    "\n",
    "    query_job = job.split()\n",
    "    query_job = \"+\".join(query_job)\n",
    "    zip_url = 'https://www.linkedin.com/jobs/search?keywords=' + query_job + '&locationId=' + country + ':0&start=0'\n",
    "    '''   \n",
    "        https://www.linkedin.com/jobs/search?keywords=Data+Scientist&locationId=us:0&start=0\n",
    "        https://www.linkedin.com/jobs/search?keywords=Data+Scientist&locationId=es:0&start=0\n",
    "        https://www.linkedin.com/jobs/search?keywords=Data+Scientist&locationId=es:0&start=50&count=25&trk=jobs_jserp_pagination_3\n",
    "    '''\n",
    "    soup = scrapying_selenium(zip_url)\n",
    "    # Scraping number of pages to loop through\n",
    "\n",
    "    job_numbers = soup.find('div', class_=\"results-context\").text\n",
    "    job_numbers = job_numbers.split(' ')\n",
    "    \n",
    "    # When the total is larger than 1000 the comma in the string cannot be transformed to int\n",
    "    try:\n",
    "        job_numbers = \"\".join(job_numbers[0].split(','))\n",
    "    except:\n",
    "        pass    \n",
    "\n",
    "    jobs_total = int(job_numbers)\n",
    "    total_pages = jobs_total/25\n",
    "    final_descriptions = [] \n",
    "    final_companies    = []\n",
    "    final_titles       = []\n",
    "    final_locations    = []\n",
    "\n",
    "    #Loop that iterates through every page\n",
    "    for page in xrange(total_pages):\n",
    "\n",
    "        #defining the url for every page  \n",
    "        url = 'https://www.linkedin.com/jobs/search?keywords=' + query_job + '&locationId=' + country + ':0&start=' + str(page*25)\n",
    "\n",
    "        print 'Scraping page %d of %d pages' %(page, total_pages)\n",
    "        \n",
    "        soup = scrapying_selenium(zip_url)\n",
    "        \n",
    "        #Scraping State and cleaning data\n",
    "        locations = soup.findAll('span', itemprop=\"addressLocality\")\n",
    "        locations = [location.text.strip().encode('ascii','ignore') for location in locations]        \n",
    "    \n",
    "        #Scraping company and cleaning data       \n",
    "        companies = soup.findAll('span', class_=\"company-name-text\")\n",
    "        companies = [company.text.strip().encode('ascii','ignore') for company in companies]        \n",
    "    \n",
    "        #Scraping job and cleaning data \n",
    "        titles = soup.findAll('span', class_=\"job-title-text\")\n",
    "        titles = [title.text.strip().encode('ascii','ignore') for title in titles]        \n",
    "\n",
    "        # Extracting every job description link of the current page in indeed\n",
    "        links = soup.findAll('a', class_=\"job-title-link\")\n",
    "        links = [line.get('href') for line in links]\n",
    "        job_links = [link for link in links if 'jobs2' in link]\n",
    "\n",
    "        #Scraping and cleaning data from the job descriptions links\n",
    "        job_descriptions =  []\n",
    "        for url in job_links:\n",
    "            job_descriptions.append(cleaning_site(url))\n",
    "\n",
    " \n",
    "    \n",
    "        final_descriptions.extend(job_descriptions)\n",
    "        final_companies.extend(companies)\n",
    "        final_locations.extend(locations)\n",
    "        final_titles.extend(titles)\n",
    "        sleep(5)\n",
    "        if page == 3:\n",
    "            break  \n",
    "    data = pd.DataFrame({'job_title' : final_titles, 'job_description' : final_descriptions, 'company' : final_companies, 'location' : final_locations})\n",
    "    return data"
   ]
  },
  {
   "cell_type": "code",
   "execution_count": 26,
   "metadata": {
    "collapsed": false
   },
   "outputs": [
    {
     "name": "stdout",
     "output_type": "stream",
     "text": [
      "Scraping page 0 of 1566 pages\n",
      "Scraping page 1 of 1566 pages\n",
      "Scraping page 2 of 1566 pages\n",
      "Scraping page 3 of 1566 pages\n"
     ]
    }
   ],
   "source": [
    "data = scraping_linkedin('Data Scientist')"
   ]
  },
  {
   "cell_type": "code",
   "execution_count": 29,
   "metadata": {
    "collapsed": false
   },
   "outputs": [
    {
     "name": "stdout",
     "output_type": "stream",
     "text": [
      "Code and Theory\n",
      "**********\n",
      "Intel Corporation\n",
      "**********\n",
      "Intel Corporation\n",
      "**********\n",
      "Moven\n",
      "**********\n",
      "CoreLogic\n",
      "**********\n",
      "Redpoint Ventures\n",
      "**********\n",
      "HireStrong\n",
      "**********\n",
      "LiftPoint Consulting (formerly M Squared Group)\n",
      "**********\n",
      "National Security Agency\n",
      "**********\n",
      "Wolters Kluwer Health\n",
      "**********\n",
      "Auction.com\n",
      "**********\n",
      "Intel Corporation\n",
      "**********\n",
      "Lotame\n",
      "**********\n",
      "General Motors\n",
      "**********\n",
      "Conclusive Analytics\n",
      "**********\n",
      "Zynga\n",
      "**********\n",
      "Nielsen\n",
      "**********\n",
      "Booz Allen Hamilton\n",
      "**********\n",
      "Electronic Arts (EA)\n",
      "**********\n",
      "HomeAway.com\n",
      "**********\n",
      "Texas Instruments\n",
      "**********\n",
      "Expedia, Inc.\n",
      "**********\n",
      "STATS LLC\n",
      "**********\n",
      "Alpine Data Labs\n",
      "**********\n",
      "Blastworks Inc.\n",
      "**********\n",
      "Code and Theory\n",
      "**********\n",
      "Intel Corporation\n",
      "**********\n",
      "Intel Corporation\n",
      "**********\n",
      "Moven\n",
      "**********\n",
      "CoreLogic\n",
      "**********\n",
      "Redpoint Ventures\n",
      "**********\n",
      "HireStrong\n",
      "**********\n",
      "LiftPoint Consulting (formerly M Squared Group)\n",
      "**********\n",
      "National Security Agency\n",
      "**********\n",
      "Wolters Kluwer Health\n",
      "**********\n",
      "Auction.com\n",
      "**********\n",
      "Intel Corporation\n",
      "**********\n",
      "Lotame\n",
      "**********\n",
      "General Motors\n",
      "**********\n",
      "Conclusive Analytics\n",
      "**********\n",
      "Zynga\n",
      "**********\n",
      "Nielsen\n",
      "**********\n",
      "Booz Allen Hamilton\n",
      "**********\n",
      "Electronic Arts (EA)\n",
      "**********\n",
      "HomeAway.com\n",
      "**********\n",
      "Texas Instruments\n",
      "**********\n",
      "Expedia, Inc.\n",
      "**********\n",
      "STATS LLC\n",
      "**********\n",
      "Alpine Data Labs\n",
      "**********\n",
      "Blastworks Inc.\n",
      "**********\n",
      "Code and Theory\n",
      "**********\n",
      "Intel Corporation\n",
      "**********\n",
      "Intel Corporation\n",
      "**********\n",
      "Moven\n",
      "**********\n",
      "CoreLogic\n",
      "**********\n",
      "Redpoint Ventures\n",
      "**********\n",
      "HireStrong\n",
      "**********\n",
      "LiftPoint Consulting (formerly M Squared Group)\n",
      "**********\n",
      "National Security Agency\n",
      "**********\n",
      "Wolters Kluwer Health\n",
      "**********\n",
      "Auction.com\n",
      "**********\n",
      "Intel Corporation\n",
      "**********\n",
      "Lotame\n",
      "**********\n",
      "General Motors\n",
      "**********\n",
      "Conclusive Analytics\n",
      "**********\n",
      "Zynga\n",
      "**********\n",
      "Nielsen\n",
      "**********\n",
      "Booz Allen Hamilton\n",
      "**********\n",
      "Electronic Arts (EA)\n",
      "**********\n",
      "HomeAway.com\n",
      "**********\n",
      "Texas Instruments\n",
      "**********\n",
      "Expedia, Inc.\n",
      "**********\n",
      "STATS LLC\n",
      "**********\n",
      "Alpine Data Labs\n",
      "**********\n",
      "Blastworks Inc.\n",
      "**********\n",
      "Code and Theory\n",
      "**********\n",
      "Intel Corporation\n",
      "**********\n",
      "Intel Corporation\n",
      "**********\n",
      "Moven\n",
      "**********\n",
      "CoreLogic\n",
      "**********\n",
      "Redpoint Ventures\n",
      "**********\n",
      "HireStrong\n",
      "**********\n",
      "LiftPoint Consulting (formerly M Squared Group)\n",
      "**********\n",
      "National Security Agency\n",
      "**********\n",
      "Wolters Kluwer Health\n",
      "**********\n",
      "Auction.com\n",
      "**********\n",
      "Intel Corporation\n",
      "**********\n",
      "Lotame\n",
      "**********\n",
      "General Motors\n",
      "**********\n",
      "Conclusive Analytics\n",
      "**********\n",
      "Zynga\n",
      "**********\n",
      "Nielsen\n",
      "**********\n",
      "Booz Allen Hamilton\n",
      "**********\n",
      "Electronic Arts (EA)\n",
      "**********\n",
      "HomeAway.com\n",
      "**********\n",
      "Texas Instruments\n",
      "**********\n",
      "Expedia, Inc.\n",
      "**********\n",
      "STATS LLC\n",
      "**********\n",
      "Alpine Data Labs\n",
      "**********\n",
      "Blastworks Inc.\n",
      "**********\n"
     ]
    }
   ],
   "source": [
    "for i in data.company:\n",
    "    print i\n",
    "    print '**********'"
   ]
  },
  {
   "cell_type": "code",
   "execution_count": null,
   "metadata": {
    "collapsed": true
   },
   "outputs": [],
   "source": []
  }
 ],
 "metadata": {
  "kernelspec": {
   "display_name": "Python 2",
   "language": "python",
   "name": "python2"
  },
  "language_info": {
   "codemirror_mode": {
    "name": "ipython",
    "version": 2
   },
   "file_extension": ".py",
   "mimetype": "text/x-python",
   "name": "python",
   "nbconvert_exporter": "python",
   "pygments_lexer": "ipython2",
   "version": "2.7.10"
  }
 },
 "nbformat": 4,
 "nbformat_minor": 0
}

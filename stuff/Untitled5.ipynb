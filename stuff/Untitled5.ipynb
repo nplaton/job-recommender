{
 "cells": [
  {
   "cell_type": "code",
   "execution_count": 44,
   "metadata": {
    "collapsed": true
   },
   "outputs": [],
   "source": [
    "import pymongo\n",
    "import pandas as pd\n",
    "import pickle\n",
    "import json"
   ]
  },
  {
   "cell_type": "code",
   "execution_count": 91,
   "metadata": {
    "collapsed": true
   },
   "outputs": [],
   "source": [
    "cli = pymongo.MongoClient()\n",
    "db = cli.project\n",
    "coll = db.Linkedin"
   ]
  },
  {
   "cell_type": "code",
   "execution_count": 92,
   "metadata": {
    "collapsed": false
   },
   "outputs": [],
   "source": [
    "df = pd.DataFrame(list(coll.find()))"
   ]
  },
  {
   "cell_type": "code",
   "execution_count": 93,
   "metadata": {
    "collapsed": false
   },
   "outputs": [
    {
     "data": {
      "text/html": [
       "<div>\n",
       "<table border=\"1\" class=\"dataframe\">\n",
       "  <thead>\n",
       "    <tr style=\"text-align: right;\">\n",
       "      <th></th>\n",
       "      <th>_id</th>\n",
       "      <th>company</th>\n",
       "      <th>company_link</th>\n",
       "      <th>country</th>\n",
       "      <th>description</th>\n",
       "      <th>full_address</th>\n",
       "      <th>job_post_link</th>\n",
       "      <th>location</th>\n",
       "      <th>logo</th>\n",
       "      <th>scraped_address</th>\n",
       "      <th>title</th>\n",
       "    </tr>\n",
       "  </thead>\n",
       "  <tbody>\n",
       "    <tr>\n",
       "      <th>0</th>\n",
       "      <td>569d9177f61b7a202e820166</td>\n",
       "      <td>Data Talent Australia</td>\n",
       "      <td>https://www.linkedin.com/company/data-talent-a...</td>\n",
       "      <td>au</td>\n",
       "      <td>Identifies unique opportunities to collect new...</td>\n",
       "      <td>Melbourne, City of Melbourne, Greater Melbourn...</td>\n",
       "      <td>https://www.linkedin.com/jobs2/view/95509188?t...</td>\n",
       "      <td>[-37.8142175, 144.9631608]</td>\n",
       "      <td>https://media.licdn.com/mpr/mpr/shrinknp_200_2...</td>\n",
       "      <td>Melbourne, Australia</td>\n",
       "      <td>Data Scientist</td>\n",
       "    </tr>\n",
       "  </tbody>\n",
       "</table>\n",
       "</div>"
      ],
      "text/plain": [
       "                        _id                company  \\\n",
       "0  569d9177f61b7a202e820166  Data Talent Australia   \n",
       "\n",
       "                                        company_link country  \\\n",
       "0  https://www.linkedin.com/company/data-talent-a...      au   \n",
       "\n",
       "                                         description  \\\n",
       "0  Identifies unique opportunities to collect new...   \n",
       "\n",
       "                                        full_address  \\\n",
       "0  Melbourne, City of Melbourne, Greater Melbourn...   \n",
       "\n",
       "                                       job_post_link  \\\n",
       "0  https://www.linkedin.com/jobs2/view/95509188?t...   \n",
       "\n",
       "                     location  \\\n",
       "0  [-37.8142175, 144.9631608]   \n",
       "\n",
       "                                                logo       scraped_address  \\\n",
       "0  https://media.licdn.com/mpr/mpr/shrinknp_200_2...  Melbourne, Australia   \n",
       "\n",
       "            title  \n",
       "0  Data Scientist  "
      ]
     },
     "execution_count": 93,
     "metadata": {},
     "output_type": "execute_result"
    }
   ],
   "source": [
    "df.head(1)"
   ]
  },
  {
   "cell_type": "code",
   "execution_count": 94,
   "metadata": {
    "collapsed": false
   },
   "outputs": [],
   "source": [
    "countries_dict = pickle.load(open('../web_app/models/countries_dict.pkl', 'r'))"
   ]
  },
  {
   "cell_type": "code",
   "execution_count": 95,
   "metadata": {
    "collapsed": false
   },
   "outputs": [],
   "source": [
    "df[\"country\"] = df.country.apply(lambda x: countries_dict[x])"
   ]
  },
  {
   "cell_type": "code",
   "execution_count": 96,
   "metadata": {
    "collapsed": false
   },
   "outputs": [
    {
     "data": {
      "text/html": [
       "<div>\n",
       "<table border=\"1\" class=\"dataframe\">\n",
       "  <thead>\n",
       "    <tr style=\"text-align: right;\">\n",
       "      <th></th>\n",
       "      <th>_id</th>\n",
       "      <th>company</th>\n",
       "      <th>company_link</th>\n",
       "      <th>country</th>\n",
       "      <th>description</th>\n",
       "      <th>full_address</th>\n",
       "      <th>job_post_link</th>\n",
       "      <th>location</th>\n",
       "      <th>logo</th>\n",
       "      <th>scraped_address</th>\n",
       "      <th>title</th>\n",
       "    </tr>\n",
       "  </thead>\n",
       "  <tbody>\n",
       "    <tr>\n",
       "      <th>0</th>\n",
       "      <td>569d9177f61b7a202e820166</td>\n",
       "      <td>Data Talent Australia</td>\n",
       "      <td>https://www.linkedin.com/company/data-talent-a...</td>\n",
       "      <td>Australia</td>\n",
       "      <td>Identifies unique opportunities to collect new...</td>\n",
       "      <td>Melbourne, City of Melbourne, Greater Melbourn...</td>\n",
       "      <td>https://www.linkedin.com/jobs2/view/95509188?t...</td>\n",
       "      <td>[-37.8142175, 144.9631608]</td>\n",
       "      <td>https://media.licdn.com/mpr/mpr/shrinknp_200_2...</td>\n",
       "      <td>Melbourne, Australia</td>\n",
       "      <td>Data Scientist</td>\n",
       "    </tr>\n",
       "  </tbody>\n",
       "</table>\n",
       "</div>"
      ],
      "text/plain": [
       "                        _id                company  \\\n",
       "0  569d9177f61b7a202e820166  Data Talent Australia   \n",
       "\n",
       "                                        company_link    country  \\\n",
       "0  https://www.linkedin.com/company/data-talent-a...  Australia   \n",
       "\n",
       "                                         description  \\\n",
       "0  Identifies unique opportunities to collect new...   \n",
       "\n",
       "                                        full_address  \\\n",
       "0  Melbourne, City of Melbourne, Greater Melbourn...   \n",
       "\n",
       "                                       job_post_link  \\\n",
       "0  https://www.linkedin.com/jobs2/view/95509188?t...   \n",
       "\n",
       "                     location  \\\n",
       "0  [-37.8142175, 144.9631608]   \n",
       "\n",
       "                                                logo       scraped_address  \\\n",
       "0  https://media.licdn.com/mpr/mpr/shrinknp_200_2...  Melbourne, Australia   \n",
       "\n",
       "            title  \n",
       "0  Data Scientist  "
      ]
     },
     "execution_count": 96,
     "metadata": {},
     "output_type": "execute_result"
    }
   ],
   "source": [
    "df.head(1)"
   ]
  },
  {
   "cell_type": "code",
   "execution_count": 97,
   "metadata": {
    "collapsed": false
   },
   "outputs": [
    {
     "ename": "SyntaxError",
     "evalue": "invalid syntax (<ipython-input-97-3fa92dc9b3e4>, line 3)",
     "output_type": "error",
     "traceback": [
      "\u001b[0;36m  File \u001b[0;32m\"<ipython-input-97-3fa92dc9b3e4>\"\u001b[0;36m, line \u001b[0;32m3\u001b[0m\n\u001b[0;31m    country_dict[] = v\u001b[0m\n\u001b[0m                 ^\u001b[0m\n\u001b[0;31mSyntaxError\u001b[0m\u001b[0;31m:\u001b[0m invalid syntax\n"
     ]
    }
   ],
   "source": [
    "country_dict = {}\n",
    "for i, v in enumerate(list(df.country.unique())):\n",
    "    country_dict[] = v\n",
    "country_json = json.dumps(country_dict)\n",
    "    "
   ]
  },
  {
   "cell_type": "code",
   "execution_count": 117,
   "metadata": {
    "collapsed": false
   },
   "outputs": [],
   "source": [
    "country = pd.DataFrame({'name' : df.country.unique()})\n",
    "country['id'] = country.index"
   ]
  },
  {
   "cell_type": "code",
   "execution_count": 116,
   "metadata": {
    "collapsed": false
   },
   "outputs": [
    {
     "ename": "NameError",
     "evalue": "name 'hello' is not defined",
     "output_type": "error",
     "traceback": [
      "\u001b[0;31m---------------------------------------------------------------------------\u001b[0m",
      "\u001b[0;31mNameError\u001b[0m                                 Traceback (most recent call last)",
      "\u001b[0;32m<ipython-input-116-b1946ac92492>\u001b[0m in \u001b[0;36m<module>\u001b[0;34m()\u001b[0m\n\u001b[0;32m----> 1\u001b[0;31m \u001b[0mhello\u001b[0m\u001b[0;34m\u001b[0m\u001b[0m\n\u001b[0m",
      "\u001b[0;31mNameError\u001b[0m: name 'hello' is not defined"
     ]
    }
   ],
   "source": [
    "hello"
   ]
  },
  {
   "cell_type": "code",
   "execution_count": 120,
   "metadata": {
    "collapsed": true
   },
   "outputs": [
    {
     "data": {
      "text/plain": [
       "'[{\"id\": 0, \"name\": \"Australia\"}, {\"id\": 1, \"name\": \"Austria\"}, {\"id\": 2, \"name\": \"Belgium\"}, {\"id\": 3, \"name\": \"Brazil\"}, {\"id\": 4, \"name\": \"Canada\"}, {\"id\": 5, \"name\": \"China\"}, {\"id\": 6, \"name\": \"Czech Republic\"}, {\"id\": 7, \"name\": \"Denmark\"}, {\"id\": 8, \"name\": \"Finland\"}, {\"id\": 9, \"name\": \"France\"}, {\"id\": 10, \"name\": \"Germany\"}, {\"id\": 11, \"name\": \"Hong Kong\"}, {\"id\": 12, \"name\": \"Hungary\"}, {\"id\": 13, \"name\": \"India\"}, {\"id\": 14, \"name\": \"Indonesia\"}, {\"id\": 15, \"name\": \"Ireland\"}, {\"id\": 16, \"name\": \"Israel\"}, {\"id\": 17, \"name\": \"Italy\"}, {\"id\": 18, \"name\": \"Japan\"}, {\"id\": 19, \"name\": \"Kenya\"}, {\"id\": 20, \"name\": \"Korea (South)\"}, {\"id\": 21, \"name\": \"Luxembourg\"}, {\"id\": 22, \"name\": \"Malaysia\"}, {\"id\": 23, \"name\": \"Malta\"}, {\"id\": 24, \"name\": \"Mexico\"}, {\"id\": 25, \"name\": \"Netherlands\"}, {\"id\": 26, \"name\": \"Norway\"}, {\"id\": 27, \"name\": \"Philippines\"}, {\"id\": 28, \"name\": \"Poland\"}, {\"id\": 29, \"name\": \"Portugal\"}, {\"id\": 30, \"name\": \"Qatar\"}, {\"id\": 31, \"name\": \"Romania\"}, {\"id\": 32, \"name\": \"Russian Federation\"}, {\"id\": 33, \"name\": \"Singapore\"}, {\"id\": 34, \"name\": \"Slovak Republic\"}, {\"id\": 35, \"name\": \"South Africa\"}, {\"id\": 36, \"name\": \"Spain\"}, {\"id\": 37, \"name\": \"Sweden\"}, {\"id\": 38, \"name\": \"Switzerland\"}, {\"id\": 39, \"name\": \"Taiwan\"}, {\"id\": 40, \"name\": \"Thailand\"}, {\"id\": 41, \"name\": \"Ukraine\"}, {\"id\": 42, \"name\": \"United Arab Emirates\"}, {\"id\": 43, \"name\": \"Great Britain (UK)\"}, {\"id\": 44, \"name\": \"United States\"}, {\"id\": 45, \"name\": \"Vietnam\"}, {\"id\": 46, \"name\": \"Bulgaria\"}, {\"id\": 47, \"name\": \"Chile\"}, {\"id\": 48, \"name\": \"Colombia\"}, {\"id\": 49, \"name\": \"Costa Rica\"}, {\"id\": 50, \"name\": \"Ecuador\"}, {\"id\": 51, \"name\": \"Estonia\"}, {\"id\": 52, \"name\": \"Lithuania\"}, {\"id\": 53, \"name\": \"Morocco\"}, {\"id\": 54, \"name\": \"New Zealand\"}]'"
      ]
     },
     "execution_count": 120,
     "metadata": {},
     "output_type": "execute_result"
    }
   ],
   "source": [
    "country_json = json.dumps([{\"id\": id, \"name\": name} for id, name in zip(country['id'], country['name'])])\n",
    "country_json"
   ]
  },
  {
   "cell_type": "code",
   "execution_count": 30,
   "metadata": {
    "collapsed": true
   },
   "outputs": [],
   "source": [
    "dx= df.groupby(by='country', axis = 1)"
   ]
  },
  {
   "cell_type": "code",
   "execution_count": 123,
   "metadata": {
    "collapsed": false
   },
   "outputs": [
    {
     "data": {
      "text/plain": [
       "Index([u'_id', u'company', u'company_link', u'country', u'description',\n",
       "       u'full_address', u'job_post_link', u'location', u'logo',\n",
       "       u'scraped_address', u'title'],\n",
       "      dtype='object')"
      ]
     },
     "execution_count": 123,
     "metadata": {},
     "output_type": "execute_result"
    }
   ],
   "source": [
    "df.columns"
   ]
  },
  {
   "cell_type": "code",
   "execution_count": 121,
   "metadata": {
    "collapsed": true
   },
   "outputs": [],
   "source": [
    "from geopy.geocoders import Nominatim"
   ]
  },
  {
   "cell_type": "code",
   "execution_count": 259,
   "metadata": {
    "collapsed": false
   },
   "outputs": [
    {
     "name": "stdout",
     "output_type": "stream",
     "text": [
      "3757.34513509\n"
     ]
    }
   ],
   "source": [
    "from geopy.distance import vincenty\n",
    "df['location'][0]\n",
    "newport_ri = df['location'][0]\n",
    "cleveland_oh = df['location'][1000]\n",
    "print(vincenty(newport_ri, cleveland_oh).miles)\n"
   ]
  },
  {
   "cell_type": "code",
   "execution_count": 130,
   "metadata": {
    "collapsed": false
   },
   "outputs": [
    {
     "name": "stdout",
     "output_type": "stream",
     "text": [
      "Melbourne, City of Melbourne, Greater Melbourne, Victoria, 3000, Australia\n",
      "Singapore, Central Singapore Community Development Council, Singapura\n"
     ]
    }
   ],
   "source": [
    "[]"
   ]
  },
  {
   "cell_type": "code",
   "execution_count": 136,
   "metadata": {
    "collapsed": false
   },
   "outputs": [],
   "source": [
    "from bs4 import BeautifulSoup\n",
    "import re \n",
    "import requests"
   ]
  },
  {
   "cell_type": "code",
   "execution_count": 153,
   "metadata": {
    "collapsed": true
   },
   "outputs": [],
   "source": [
    "site = requests.get('http://www.worldatlas.com/citypops.htm').text\n",
    "soup = BeautifulSoup(site, \"html.parser\")"
   ]
  },
  {
   "cell_type": "code",
   "execution_count": 165,
   "metadata": {
    "collapsed": false
   },
   "outputs": [],
   "source": [
    "all_list =[]\n",
    "soup2 = soup.findAll('ul')[4]\n",
    "for i in soup2.findAll('a'):\n",
    "    all_list.append(i.text)\n"
   ]
  },
  {
   "cell_type": "code",
   "execution_count": 236,
   "metadata": {
    "collapsed": false
   },
   "outputs": [],
   "source": [
    "all_list.append(u'Budapest, Hungary')"
   ]
  },
  {
   "cell_type": "code",
   "execution_count": 244,
   "metadata": {
    "collapsed": false
   },
   "outputs": [],
   "source": [
    "all_list.remove('Chongqung, China')"
   ]
  },
  {
   "cell_type": "code",
   "execution_count": 245,
   "metadata": {
    "collapsed": false,
    "scrolled": false
   },
   "outputs": [
    {
     "name": "stdout",
     "output_type": "stream",
     "text": [
      "Tokyo, Japan\n",
      "Jakarta, Indonesia\n",
      "Seoul, South Korea\n",
      "Delhi, India\n",
      "Shanghai, China\n",
      "Manila, Philippines\n",
      "Karachi, Pakistan \n",
      "New York, USA \n",
      "Sao Paulo, Brazil \n",
      "Mexico City, Mexico\n",
      "Cairo, Egypt \n",
      "Beijing, China \n",
      "Osaka, Japan\n",
      "Guangzhou, China \n",
      "Moscow, Russia\n",
      "Los Angeles, USA \n",
      "Calcutta, India \n",
      "Dhaka, Bangladesh\n",
      "Buenos Aires, Argentina\n",
      "Istanbul, Turkey\n",
      "Rio de Janeiro, Brazil\n",
      "Shenzhen, China\n",
      "Lagos, Nigeria\n",
      "Paris, France \n",
      "Nagoya, Japan \n",
      "Lima, Peru\n",
      "Chicago, USA\n",
      "Kinshasa, Congo (DRC) \n",
      "Tianjin, China \n",
      "Chennai, India\n",
      "Bogota, Colombia\n",
      "Bengaluru, India\n",
      "London, United Kingdom \n",
      "Taipei, Taiwan \n",
      "Dongguan, China\n",
      "Hyderabad, India\n",
      "Chengdu, China \n",
      "Lahore, Pakistan \n",
      "Johannesburg, South Africa\n",
      "Tehran, Iran\n",
      "Essen, Germany\n",
      "Bangkok, Thailand \n",
      "Hong Kong, Hong Kong \n",
      "Wuhan, China\n",
      "Ahmedabad, India\n",
      "Baghdad, Iraq\n",
      "Hangzhou, China \n",
      "Toronto, Canada\n",
      "Kuala Lumpur, Malaysia\n",
      "Santiago, Chile\n",
      "Dallas-Fort Worth, USA\n",
      "Quanzhou, China\n",
      "Miami, USA\n",
      "Shenyang, China\n",
      "Belo Horizonte, Brazil\n",
      "Philadelphia, USA \n",
      "Nanjing, China\n",
      "Madrid, Spain\n",
      "Houston, USA\n",
      "Xi'an-Xianyang, China\n",
      "Milan, Italy \n",
      "Luanda, Angola\n",
      "Pune, India\n",
      "Singapore, Singapore\n",
      "Riyadh, Saudi Arabia\n",
      "Khartoum, Sudan \n",
      "Saint Petersburg, Russia\n",
      "Atlanta, USA\n",
      "Surat, India\n",
      "Washington, D.C., USA\n",
      "Bandung, Indonesia \n",
      "Surabaya, Indonesia\n",
      "Yangoon, Myanmar\n",
      "Alexandria, Egypt\n",
      "Guadalajara, Mexico\n",
      "Harbin, China \n",
      "Boston, USA\n",
      "Zhengzhou, China\n",
      "Qingdao, China\n",
      "Abidjan, Cote d'Ivoire\n",
      "Barcelona, Spain \n",
      "Monterrey, Mexico\n",
      "Ankara, Turkey\n",
      "Suzhou, China\n",
      "Salvador, Brazil \n",
      "Porto Alegre, Brazil\n",
      "Rome, Italy\n",
      "Accra, Ghana\n",
      "Sydney, Australia\n",
      "Recife, Brazil \n",
      "Naples, Italy\n",
      "Detroit, USA\n",
      "Dalian, China \n",
      "Fuzhou, China\n",
      "Medellin, Colombia\n",
      "Austin, USA\n",
      "San Diego, USA\n",
      "Charlotte, USA\n",
      "Seattle, USA\n",
      "Vancouver, Canada\n",
      "Sofia, Bulgaria\n",
      "Prague, Czech Republic\n",
      "Stockholm, Sweden\n",
      "Oslo, Norway\n",
      "Berlin, Germany\n",
      "Hamburg, Germany\n",
      "Cologne, Germany\n",
      "Ho Chi Minh City, Vietnam\n",
      "Mumbai, India\n",
      "San Francisco, USA\n",
      "San Jose, USA\n",
      "Phoenix, USA\n",
      "Mesa, USA\n",
      "Bogota, Colombia\n",
      "Oakland, USA\n",
      "Rio de Janeiro, Brazil\n",
      "Montevideo, Uruguay\n",
      "Manchester, UK\n",
      "Birmingham, UK\n",
      "Edinburgh, UK\n",
      "Auckland, New Zealand\n",
      "Wellington, New Zealand\n",
      "Melbourne, Australia\n",
      "Zürich, Switzerland\n",
      "Geneva, Switzerland\n",
      "Vienna, Austria\n",
      "Athens, Greece\n",
      "Budapest, Hungary\n",
      "{u'Vancouver, Canada': (49.2608944, -123.1139383), u'Lima, Peru': (-12.0, -76.833333), u'Shenzhen, China': (22.5442673, 114.0545327), u'Phoenix, USA': (33.4467681, -112.0756724), u'Medellin, Colombia': (6.2443382, -75.573553), u'Mesa, USA': (33.436188, -111.586066076293), u'London, United Kingdom ': (51.5073219, -0.1276473), u'Hangzhou, China ': (30.2756741, 120.1504858), u'Karachi, Pakistan ': (24.8667795, 67.0311286), u'Johannesburg, South Africa': (-26.205, 28.0497222), u'Monterrey, Mexico': (25.6764922, -100.3060828), u'Athens, Greece': (37.9841493, 23.7279843), u'Suzhou, China': (31.2984758, 120.622239), u'Singapore, Singapore': (1.2904527, 103.852038), u'Shenyang, China': (41.8045293, 123.4277858), u'Osaka, Japan': (34.6852955, 135.5145684), u'Riyadh, Saudi Arabia': (24.6319692, 46.7150648), u'Chengdu, China ': (30.6765553, 104.0612783), u'Jakarta, Indonesia': (-6.1753941, 106.8271826), u'Manila, Philippines': (14.5906216, 120.9799696), u'Austin, USA': (30.2711286, -97.7436994), u'Chicago, USA': (41.8755546, -87.6244212), u'Naples, Italy': (40.8359336, 14.2487826), u'Tianjin, China ': (39.1235635, 117.1980785), u'Vienna, Austria': (48.2083537, 16.3725042), u'Salvador, Brazil ': (-12.9822499, -38.4812772), u'Khartoum, Sudan ': (15.5933247, 32.5356502), u'New York, USA ': (40.7305991, -73.9865812), u'Kuala Lumpur, Malaysia': (3.1570976, 101.7009528), u'Sofia, Bulgaria': (42.6977211, 23.3225964), u'Zhengzhou, China': (34.7591877, 113.6524076), u'Guangzhou, China ': (23.1300037, 113.259001), u'Alexandria, Egypt': (31.1990035, 29.8943785), u'Detroit, USA': (42.3486635, -83.0567375), u'Manchester, UK': (53.4791466, -2.2447445), u'Montevideo, Uruguay': (-34.9059039, -56.1913569), u'Shanghai, China': (31.2253441, 121.4888922), u'Ho Chi Minh City, Vietnam': (10.7758439, 106.7017555), u'Houston, USA': (29.7589382, -95.3676973), u'Harbin, China ': (45.7656666, 126.6160584), u'Mumbai, India': (18.9523804, 72.8327112), u'Stockholm, Sweden': (59.3251172, 18.0710935), u'Bandung, Indonesia ': (-6.9344693, 107.6049539), u'Quanzhou, China': (25.22314005, 118.149366456272), u'Nanjing, China': (32.0609158, 118.7916065), u'Saint Petersburg, Russia': (59.9393657, 30.3153628), u'Tokyo, Japan': (34.2255804, 139.294774527387), u'Geneva, Switzerland': (46.2017559, 6.1466014), u'Taipei, Taiwan ': (25.0375167, 121.5637), u'Guadalajara, Mexico': (20.676143, -103.3469982), u'Accra, Ghana': (5.5600141, -0.2057436), u'Ankara, Turkey': (39.9220794, 32.853758), u'Seattle, USA': (47.6038321, -122.3300624), u'Wellington, New Zealand': (-41.2887638, 174.7772239), u'Mexico City, Mexico': (19.4325301, -99.1332102), u'Recife, Brazil ': (-8.0581077, -34.8979047), u'Tehran, Iran': (35.686172, 51.4223519), u'San Jose, USA': (37.3361905, -121.8905833), u'Porto Alegre, Brazil': (-30.0282658, -51.228427), u'Essen, Germany': (51.4572062, 7.0114963), u'Qingdao, China': (36.0895093, 120.3497193), u'Dongguan, China': (23.0449275, 113.7524781), u'Buenos Aires, Argentina': (-34.612869, -58.4459789), u'San Diego, USA': (32.7174209, -117.1627714), u'Cologne, Germany': (50.9383611, 6.9599738), u'Delhi, India': (28.6572914, 77.2272603), u'Sao Paulo, Brazil ': (-23.5476397, -46.637365), u'Boston, USA': (42.3604823, -71.0595678), u'Lagos, Nigeria': (6.4550575, 3.3941795), u'Barcelona, Spain ': (41.3825596, 2.1771353), u'Belo Horizonte, Brazil': (-19.9227318, -43.9450948), u\"Xi'an-Xianyang, China\": (34.3049864, 108.7256803), u\"Abidjan, Cote d'Ivoire\": (5.4091179, -4.0422099), u'Wuhan, China': (30.5960213, 114.2992796), u'Edinburgh, UK': (55.9483544, -3.1931186), u'Madrid, Spain': (40.4167047, -3.7035825), u'Moscow, Russia': (55.7516335, 37.6187042), u'Toronto, Canada': (43.6529206, -79.3849008), u'Nagoya, Japan ': (35.183333, 136.9), u'Surabaya, Indonesia': (-7.2459717, 112.7378266), u'Beijing, China ': (39.9059631, 116.391248), u'Hong Kong, Hong Kong ': (22.2793278, 114.1628131), u'Bangkok, Thailand ': (13.5859219, 100.416086601645), u'Ahmedabad, India': (23.0216238, 72.5797068), u'Pune, India': (18.64395815, 73.9325681901252), u'San Francisco, USA': (37.7792768, -122.4192704), u'Oakland, USA': (37.8044557, -122.2713563), u'Dalian, China ': (38.920716, 121.6388678), u'Seoul, South Korea': (37.5666791, 126.9782914), u'Miami, USA': (25.7742658, -80.1936589), u'Bengaluru, India': (12.9791198, 77.5912997), u'Charlotte, USA': (35.2270869, -80.8431268), u'Cairo, Egypt ': (30.0488185, 31.2436663), u'Chennai, India': (13.0796914, 80.2829533), u'Berlin, Germany': (52.5170365, 13.3888599), u'Atlanta, USA': (33.7490987, -84.3901849), u'Santiago, Chile': (-33.4377968, -70.6504451), u'Oslo, Norway': (59.9132694, 10.7391112), u'Dallas-Fort Worth, USA': (32.735794, -97.2299579), u'Paris, France ': (48.8565056, 2.3521334), u'Budapest, Hungary': (47.4983815, 19.0404707), u'Surat, India': (21.1864607, 72.8081281), u'Fuzhou, China': (26.0771539, 119.2914774), u'Birmingham, UK': (52.4813679, -1.8980726), u'Baghdad, Iraq': (33.3024248, 44.3787992), u'Los Angeles, USA ': (34.0543942, -118.2439408), u'Philadelphia, USA ': (39.9523993, -75.1635898), u'Melbourne, Australia': (-37.8142175, 144.9631608), u'Hyderabad, India': (17.3616227, 78.4747305), u'Rome, Italy': (41.8933439, 12.4830718), u'Z\\xfcrich, Switzerland': (47.3685586, 8.5404434), u'Luanda, Angola': (-8.8271655, 13.2436665), u'Milan, Italy ': (45.4667971, 9.1904984), u'Rio de Janeiro, Brazil': (-22.9110137, -43.2093727), u'Auckland, New Zealand': (-36.8534664, 174.7655514), u'Dhaka, Bangladesh': (23.7593572, 90.3788136), u'Yangoon, Myanmar': (19.7401293, 96.0314861), u'Washington, D.C., USA': (38.8996378, -77.0222541), u'Bogota, Colombia': (4.5980478, -74.0760867), u'Prague, Czech Republic': (50.0874401, 14.4212556), u'Calcutta, India ': (22.568746, 88.3462999), u'Istanbul, Turkey': (41.0096334, 28.9651646), u'Lahore, Pakistan ': (31.5621916, 74.3228517), u'Kinshasa, Congo (DRC) ': (-2.9814344, 23.8222636), u'Hamburg, Germany': (53.5437641, 10.0099133), u'Sydney, Australia': (-33.8548156, 151.2164539)}\n"
     ]
    }
   ],
   "source": [
    "from geopy.geocoders import Nominatim\n",
    "city_location_dict = {}\n",
    "for city in all_list:\n",
    "    geolocator = Nominatim()\n",
    "    print city\n",
    "    located_address = geolocator.geocode(city)\n",
    "    city_location_dict[city] = (located_address[1])\n"
   ]
  },
  {
   "cell_type": "code",
   "execution_count": 255,
   "metadata": {
    "collapsed": false
   },
   "outputs": [],
   "source": [
    "pickle.dump(city_location_dict, open('../web_app/models/city_location_dict.pkl', 'wb'))\n"
   ]
  },
  {
   "cell_type": "code",
   "execution_count": 260,
   "metadata": {
    "collapsed": false
   },
   "outputs": [
    {
     "data": {
      "text/plain": [
       "(39.9523993, -75.1635898)"
      ]
     },
     "execution_count": 260,
     "metadata": {},
     "output_type": "execute_result"
    }
   ],
   "source": [
    "city_location_dict['Philadelphia, USA ']"
   ]
  },
  {
   "cell_type": "code",
   "execution_count": 178,
   "metadata": {
    "collapsed": false
   },
   "outputs": [],
   "source": [
    " x = df.groupby(['scraped_address']).count().sort_values('company_link', axis=0, ascending=False)"
   ]
  },
  {
   "cell_type": "code",
   "execution_count": 258,
   "metadata": {
    "collapsed": false
   },
   "outputs": [
    {
     "data": {
      "text/plain": [
       "[u'Vancouver, Canada',\n",
       " u'Lima, Peru',\n",
       " u'Shenzhen, China',\n",
       " u'Porto Alegre, Brazil',\n",
       " u'Medellin, Colombia',\n",
       " u'Mesa, USA',\n",
       " u'London, United Kingdom ',\n",
       " u'Hangzhou, China ',\n",
       " u'Karachi, Pakistan ',\n",
       " u'Johannesburg, South Africa',\n",
       " u'Monterrey, Mexico',\n",
       " u'Athens, Greece',\n",
       " u'Suzhou, China',\n",
       " u'Singapore, Singapore',\n",
       " u'Shenyang, China',\n",
       " u'Osaka, Japan',\n",
       " u'Riyadh, Saudi Arabia',\n",
       " u'Chengdu, China ',\n",
       " u'Jakarta, Indonesia',\n",
       " u'Manila, Philippines',\n",
       " u'Austin, USA',\n",
       " u'Chicago, USA',\n",
       " u'Naples, Italy',\n",
       " u'Tianjin, China ',\n",
       " u'Vienna, Austria',\n",
       " u'Accra, Ghana',\n",
       " u'Khartoum, Sudan ',\n",
       " u'Bandung, Indonesia ',\n",
       " u'Kuala Lumpur, Malaysia',\n",
       " u'Sofia, Bulgaria',\n",
       " u'Zhengzhou, China',\n",
       " u'Guangzhou, China ',\n",
       " u'Alexandria, Egypt',\n",
       " u'Detroit, USA',\n",
       " u'Manchester, UK',\n",
       " u'Montevideo, Uruguay',\n",
       " u'Shanghai, China',\n",
       " u'Ho Chi Minh City, Vietnam',\n",
       " u'Houston, USA',\n",
       " u'Harbin, China ',\n",
       " u'Boston, USA',\n",
       " u'Stockholm, Sweden',\n",
       " u'New York, USA ',\n",
       " u'Quanzhou, China',\n",
       " u'Nanjing, China',\n",
       " u'Saint Petersburg, Russia',\n",
       " u'Sao Paulo, Brazil ',\n",
       " u'Geneva, Switzerland',\n",
       " u\"Xi'an-Xianyang, China\",\n",
       " u'Guadalajara, Mexico',\n",
       " u'Ankara, Turkey',\n",
       " u'Seattle, USA',\n",
       " u'Rio de Janeiro, Brazil',\n",
       " u'Mexico City, Mexico',\n",
       " u'Recife, Brazil ',\n",
       " u'Tehran, Iran',\n",
       " u'San Jose, USA',\n",
       " u'Phoenix, USA',\n",
       " u'Essen, Germany',\n",
       " u'Qingdao, China',\n",
       " u'Dongguan, China',\n",
       " u'Buenos Aires, Argentina',\n",
       " u'San Diego, USA',\n",
       " u'Cologne, Germany',\n",
       " u'Delhi, India',\n",
       " u'Tokyo, Japan',\n",
       " u'Mumbai, India',\n",
       " u'Lagos, Nigeria',\n",
       " u'Barcelona, Spain ',\n",
       " u'Belo Horizonte, Brazil',\n",
       " u'Taipei, Taiwan ',\n",
       " u\"Abidjan, Cote d'Ivoire\",\n",
       " u'Wuhan, China',\n",
       " u'Edinburgh, UK',\n",
       " u'Madrid, Spain',\n",
       " u'Moscow, Russia',\n",
       " u'Toronto, Canada',\n",
       " u'Nagoya, Japan ',\n",
       " u'Surabaya, Indonesia',\n",
       " u'Hyderabad, India',\n",
       " u'Beijing, China ',\n",
       " u'Hong Kong, Hong Kong ',\n",
       " u'Bangkok, Thailand ',\n",
       " u'Ahmedabad, India',\n",
       " u'Pune, India',\n",
       " u'San Francisco, USA',\n",
       " u'Oakland, USA',\n",
       " u'Dalian, China ',\n",
       " u'Seoul, South Korea',\n",
       " u'Miami, USA',\n",
       " u'Bengaluru, India',\n",
       " u'Charlotte, USA',\n",
       " u'Cairo, Egypt ',\n",
       " u'Chennai, India',\n",
       " u'Berlin, Germany',\n",
       " u'Atlanta, USA',\n",
       " u'Santiago, Chile',\n",
       " u'Oslo, Norway',\n",
       " u'Dallas-Fort Worth, USA',\n",
       " u'Paris, France ',\n",
       " u'Budapest, Hungary',\n",
       " u'Surat, India',\n",
       " u'Fuzhou, China',\n",
       " u'Birmingham, UK',\n",
       " u'Baghdad, Iraq',\n",
       " u'Los Angeles, USA ',\n",
       " u'Philadelphia, USA ',\n",
       " u'Melbourne, Australia',\n",
       " u'Salvador, Brazil ',\n",
       " u'Rome, Italy',\n",
       " u'Z\\xfcrich, Switzerland',\n",
       " u'Luanda, Angola',\n",
       " u'Milan, Italy ',\n",
       " u'Wellington, New Zealand',\n",
       " u'Auckland, New Zealand',\n",
       " u'Dhaka, Bangladesh',\n",
       " u'Yangoon, Myanmar',\n",
       " u'Washington, D.C., USA',\n",
       " u'Bogota, Colombia',\n",
       " u'Prague, Czech Republic',\n",
       " u'Calcutta, India ',\n",
       " u'Istanbul, Turkey',\n",
       " u'Lahore, Pakistan ',\n",
       " u'Kinshasa, Congo (DRC) ',\n",
       " u'Sydney, Australia',\n",
       " u'Hamburg, Germany']"
      ]
     },
     "execution_count": 258,
     "metadata": {},
     "output_type": "execute_result"
    }
   ],
   "source": [
    "cities = pickle.load(open('../web_app/models/city_location_dict.pkl', 'r'))\n",
    "cities.keys()"
   ]
  },
  {
   "cell_type": "code",
   "execution_count": 190,
   "metadata": {
    "collapsed": false
   },
   "outputs": [
    {
     "data": {
      "text/plain": [
       "[<a class=\"btn btn-xs btn-danger pull-right\" href='javascript:sm(\"map\",0);' title=\"Find on map\"><span class=\"glyphicon glyphicon-map-marker\"></span></a>,\n",
       " <a class=\"btn btn-xs btn-danger pull-right\" href='javascript:sm(\"map\",1);' title=\"Find on map\"><span class=\"glyphicon glyphicon-map-marker\"></span></a>,\n",
       " <a class=\"btn btn-xs btn-danger pull-right\" href='javascript:sm(\"map\",2);' title=\"Find on map\"><span class=\"glyphicon glyphicon-map-marker\"></span></a>,\n",
       " <a class=\"btn btn-xs btn-danger pull-right\" href='javascript:sm(\"map\",3);' title=\"Find on map\"><span class=\"glyphicon glyphicon-map-marker\"></span></a>,\n",
       " <a class=\"btn btn-xs btn-danger pull-right\" href='javascript:sm(\"map\",4);' title=\"Find on map\"><span class=\"glyphicon glyphicon-map-marker\"></span></a>,\n",
       " <a class=\"btn btn-xs btn-danger pull-right\" href='javascript:sm(\"map\",5);' title=\"Find on map\"><span class=\"glyphicon glyphicon-map-marker\"></span></a>,\n",
       " <a class=\"btn btn-xs btn-danger pull-right\" href='javascript:sm(\"map\",6);' title=\"Find on map\"><span class=\"glyphicon glyphicon-map-marker\"></span></a>,\n",
       " <a class=\"btn btn-xs btn-danger pull-right\" href='javascript:sm(\"map\",7);' title=\"Find on map\"><span class=\"glyphicon glyphicon-map-marker\"></span></a>,\n",
       " <a class=\"btn btn-xs btn-danger pull-right\" href='javascript:sm(\"map\",8);' title=\"Find on map\"><span class=\"glyphicon glyphicon-map-marker\"></span></a>,\n",
       " <a class=\"btn btn-xs btn-danger pull-right\" href='javascript:sm(\"map\",9);' title=\"Find on map\"><span class=\"glyphicon glyphicon-map-marker\"></span></a>]"
      ]
     },
     "execution_count": 190,
     "metadata": {},
     "output_type": "execute_result"
    }
   ],
   "source": [
    "site = requests.get('http://www.city-data.com/top1.html').text\n",
    "soup = BeautifulSoup(site, \"html.parser\")\n",
    "cities = soup.findAll(class_=\"btn btn-xs btn-danger pull-right\")"
   ]
  },
  {
   "cell_type": "code",
   "execution_count": 188,
   "metadata": {
    "collapsed": true
   },
   "outputs": [],
   "source": [
    "us_cities=[]\n",
    "for city in cities:\n",
    "    us_cities.append(city.text)\n",
    "    "
   ]
  },
  {
   "cell_type": "code",
   "execution_count": 189,
   "metadata": {
    "collapsed": false
   },
   "outputs": [
    {
     "data": {
      "text/plain": [
       "[u'', u'', u'', u'', u'', u'', u'', u'', u'', u'']"
      ]
     },
     "execution_count": 189,
     "metadata": {},
     "output_type": "execute_result"
    }
   ],
   "source": [
    "us_cities"
   ]
  },
  {
   "cell_type": "code",
   "execution_count": 263,
   "metadata": {
    "collapsed": false
   },
   "outputs": [],
   "source": [
    "df['dist_diff'] = df.location.apply(lambda x: (vincenty(x, city_location_dict['Philadelphia, USA ']).miles))"
   ]
  },
  {
   "cell_type": "code",
   "execution_count": 267,
   "metadata": {
    "collapsed": false
   },
   "outputs": [
    {
     "data": {
      "text/plain": [
       "1310    Philadelphia, Philadelphia County, Pennsylvani...\n",
       "2479    Philadelphia, Philadelphia County, Pennsylvani...\n",
       "2480    Philadelphia, Philadelphia County, Pennsylvani...\n",
       "2483    Philadelphia, Philadelphia County, Pennsylvani...\n",
       "2671    Philadelphia, Philadelphia County, Pennsylvani...\n",
       "2762    Philadelphia, Philadelphia County, Pennsylvani...\n",
       "2816    Philadelphia, Philadelphia County, Pennsylvani...\n",
       "Name: full_address, dtype: object"
      ]
     },
     "execution_count": 267,
     "metadata": {},
     "output_type": "execute_result"
    }
   ],
   "source": [
    "df[df['dist_diff']<=8].full_address"
   ]
  },
  {
   "cell_type": "code",
   "execution_count": null,
   "metadata": {
    "collapsed": true
   },
   "outputs": [],
   "source": []
  }
 ],
 "metadata": {
  "kernelspec": {
   "display_name": "Python 2",
   "language": "python",
   "name": "python2"
  },
  "language_info": {
   "codemirror_mode": {
    "name": "ipython",
    "version": 2
   },
   "file_extension": ".py",
   "mimetype": "text/x-python",
   "name": "python",
   "nbconvert_exporter": "python",
   "pygments_lexer": "ipython2",
   "version": "2.7.10"
  }
 },
 "nbformat": 4,
 "nbformat_minor": 0
}
